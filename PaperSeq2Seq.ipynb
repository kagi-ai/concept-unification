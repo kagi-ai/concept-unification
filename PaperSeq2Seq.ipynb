{
 "cells": [
  {
   "cell_type": "markdown",
   "metadata": {},
   "source": [
    "The Seq2Seq that allows bidirectional comunication states $\\leftrightarrow$ laws, with aligned embeddings."
   ]
  },
  {
   "cell_type": "code",
   "execution_count": 1,
   "metadata": {},
   "outputs": [
    {
     "name": "stderr",
     "output_type": "stream",
     "text": [
      "Using TensorFlow backend.\n"
     ]
    }
   ],
   "source": [
    "import random\n",
    "import os\n",
    "import sys\n",
    "\n",
    "import numpy as np\n",
    "import matplotlib.pyplot as plt\n",
    "%matplotlib inline\n",
    "\n",
    "import networkx as nx \n",
    "import pylab\n",
    "\n",
    "from gensim.models import Word2Vec\n",
    "from sklearn.decomposition import PCA\n",
    "\n",
    "from keras.models import Model\n",
    "from keras.layers import Input, LSTM, GRU, Dense, Embedding\n",
    "from keras.preprocessing.text import Tokenizer\n",
    "from keras.preprocessing.sequence import pad_sequences\n",
    "from keras.utils import to_categorical\n",
    "import numpy as np\n",
    "import matplotlib.pyplot as plt\n",
    "\n",
    "import keras.backend as K"
   ]
  },
  {
   "cell_type": "code",
   "execution_count": 2,
   "metadata": {},
   "outputs": [],
   "source": [
    "class GraphLanguage:\n",
    "    def __init__(self, dataset_size, num_states, max_sequence_size, connection):\n",
    "        self.dataset_size = dataset_size\n",
    "        self.max_sequence_size = max_sequence_size\n",
    "        self.num_states = num_states\n",
    "        self.connection = connection\n",
    "    def generate_graph(self):\n",
    "        G = nx.DiGraph()\n",
    "        H = range(1,self.num_states+1)\n",
    "        G.add_nodes_from(H)\n",
    "        list_of_edges =[]\n",
    "        edge_labels = {}\n",
    "        for i in range(1, self.num_states):\n",
    "            for j in range(1, self.num_states+1):\n",
    "                d = np.random.randn()\n",
    "                if d < self.connection and i != j:\n",
    "                    e = (i,j)\n",
    "                    list_of_edges.append(e)\n",
    "                    edge_labels[e] = str(i)+'e'+str(j)\n",
    "        G.add_edges_from(list_of_edges)\n",
    "        # connection  = -1.25\n",
    "        nx.draw(G,pos = nx.spring_layout(G), with_labels=True) \n",
    "        pylab.show()\n",
    "  \n",
    "        sample_events = []\n",
    "        sample_relations = []\n",
    "        sample = []\n",
    "        target_events = []\n",
    "        target_events_inputs = []\n",
    "        target_texts = []\n",
    "        target_texts_inputs = []\n",
    "        for _ in range(self.dataset_size):\n",
    "            sequence_list = []\n",
    "            sample_rel = []\n",
    "            sequence_size = random.randint(1, self.max_sequence_size)\n",
    "            l_descendants = []\n",
    "            target_event_input = []\n",
    "            target_event = []\n",
    "            node = random.randint(1, self.num_states)\n",
    "            l_descendants.append(node)\n",
    "            successors = G.successors(node)\n",
    "            l_successors = list(successors)\n",
    "            while l_successors and (len(l_descendants) <= sequence_size): \n",
    "                successor = random.choice(l_successors)\n",
    "                node = successor\n",
    "                l_descendants.append(node)\n",
    "                successors = G.successors(node)\n",
    "                l_successors = list(successors)\n",
    "                str_descendants = [str(item) for item in l_descendants]\n",
    "                #sequence_list.append(l_descendants)\n",
    "            for j in range(len(str_descendants)-1):\n",
    "                rel_list = str_descendants[j]+'s'+str_descendants[j+1]\n",
    "                sample_rel.append(rel_list)\n",
    "            a = '<sos>'\n",
    "            b = '<eos>'\n",
    "            sample_relations.append(sample_rel)\n",
    "            sample_events.append(str_descendants)\n",
    "            \n",
    "            target_event_input = str_descendants\n",
    "            target_event = str_descendants\n",
    "            \n",
    "            target_event_input = [a] + target_event_input \n",
    "            target_event = target_event + [b]\n",
    "            \n",
    "            target_events.append(target_event)\n",
    "            target_events_inputs.append(target_event_input)\n",
    "            \n",
    "            sample.append((str_descendants, sample_rel))\n",
    "            \n",
    "            target_text = sample_rel\n",
    "            target_text_input = sample_rel\n",
    "            \n",
    "            target_text_input = [a] + target_text_input\n",
    "            target_text = target_text + [b]\n",
    "            \n",
    "            target_texts.append(target_text)\n",
    "            target_texts_inputs.append(target_text_input)\n",
    "        return sample, sample_events, sample_relations,target_events, target_events_inputs, target_texts, target_texts_inputs"
   ]
  },
  {
   "cell_type": "code",
   "execution_count": 3,
   "metadata": {},
   "outputs": [
    {
     "data": {
      "image/png": "[encoded data removed]",
      "text/plain": [
       "<Figure size 432x288 with 1 Axes>"
      ]
     },
     "metadata": {},
     "output_type": "display_data"
    }
   ],
   "source": [
    "graph = GraphLanguage(10000, 30, 30, -1.5)\n",
    "sample, sample_events, sample_relations,target_events, target_events_inputs, target_texts, target_texts_inputs = graph.generate_graph()"
   ]
  },
  {
   "cell_type": "code",
   "execution_count": 4,
   "metadata": {},
   "outputs": [],
   "source": [
    "#print(sample_events)\n",
    "#print(sample_relations)\n",
    "#print(sample)\n",
    "#print(target_texts)\n",
    "#print(target_texts_inputs)\n",
    "#print(target_events)\n",
    "#print(target_events_inputs)"
   ]
  },
  {
   "cell_type": "code",
   "execution_count": 5,
   "metadata": {},
   "outputs": [],
   "source": [
    "BATCH_SIZE = 16  # Batch size for training.\n",
    "EPOCHS = 20  # Number of epochs to train for.\n",
    "LATENT_DIM = 120  # Latent dimensionality of the encoding space.\n",
    "NUM_SAMPLES = 10000  # Number of samples to train on.\n",
    "MAX_SEQUENCE_LENGTH = 30\n",
    "MAX_NUM_WORDS = 100\n",
    "EMBEDDING_DIM = 10"
   ]
  },
  {
   "cell_type": "code",
   "execution_count": 6,
   "metadata": {},
   "outputs": [],
   "source": [
    "samples = sample_events + sample_relations\n",
    "tokenizer_inputs = Tokenizer(num_words = MAX_NUM_WORDS)\n",
    "tokenizer_inputs.fit_on_texts(samples)\n",
    "input_sequences = tokenizer_inputs.texts_to_sequences(samples)"
   ]
  },
  {
   "cell_type": "code",
   "execution_count": 7,
   "metadata": {},
   "outputs": [
    {
     "name": "stdout",
     "output_type": "stream",
     "text": [
      "Found 86 unique input states.\n"
     ]
    }
   ],
   "source": [
    "word2idx_inputs = tokenizer_inputs.word_index # change name states2idx\n",
    "print('Found {} unique input states.'.format(len(word2idx_inputs))) #test\n",
    "#word2idx_inputs"
   ]
  },
  {
   "cell_type": "code",
   "execution_count": 8,
   "metadata": {},
   "outputs": [],
   "source": [
    "max_len_input = max(len(s) for s in input_sequences)"
   ]
  },
  {
   "cell_type": "code",
   "execution_count": 9,
   "metadata": {},
   "outputs": [
    {
     "name": "stdout",
     "output_type": "stream",
     "text": [
      "31\n"
     ]
    }
   ],
   "source": [
    "print(max_len_input)"
   ]
  },
  {
   "cell_type": "code",
   "execution_count": 10,
   "metadata": {},
   "outputs": [],
   "source": [
    "tokenizer_outputs = Tokenizer(num_words=MAX_NUM_WORDS, filters='')\n",
    "evs = target_events + target_events_inputs\n",
    "txt = target_texts + target_texts_inputs\n",
    "tokenizer_outputs.fit_on_texts(txt + evs) \n",
    "targets = target_texts + target_events\n",
    "targets_inputs = target_texts_inputs + target_events_inputs\n",
    "target_sequences = tokenizer_outputs.texts_to_sequences(targets)\n",
    "target_sequences_inputs = tokenizer_outputs.texts_to_sequences(targets_inputs)"
   ]
  },
  {
   "cell_type": "code",
   "execution_count": 11,
   "metadata": {},
   "outputs": [
    {
     "name": "stdout",
     "output_type": "stream",
     "text": [
      "Found 88 unique output relations.\n"
     ]
    }
   ],
   "source": [
    "word2idx_outputs = tokenizer_outputs.word_index\n",
    "print('Found {} unique output relations.'.format(len(word2idx_outputs)))"
   ]
  },
  {
   "cell_type": "code",
   "execution_count": 12,
   "metadata": {},
   "outputs": [
    {
     "data": {
      "text/plain": [
       "32"
      ]
     },
     "execution_count": 12,
     "metadata": {},
     "output_type": "execute_result"
    }
   ],
   "source": [
    "num_words_output = len(word2idx_outputs) + 1\n",
    "max_len_target = max(len(s) for s in target_sequences)\n",
    "max_len_target"
   ]
  },
  {
   "cell_type": "code",
   "execution_count": 13,
   "metadata": {},
   "outputs": [
    {
     "name": "stdout",
     "output_type": "stream",
     "text": [
      "encoder_inputs.shape: (20000, 31)\n",
      "encoder_inputs[0]: [ 0  0  0  0  0  0  0  0  0  0  0  0  0  0  0  0  0  0  0  0  4  5  2  1\n",
      "  5  2  1  9  7 26  9]\n"
     ]
    }
   ],
   "source": [
    "encoder_inputs = pad_sequences(input_sequences, maxlen=max_len_input)\n",
    "print(\"encoder_inputs.shape:\", encoder_inputs.shape)\n",
    "print(\"encoder_inputs[0]:\", encoder_inputs[0])"
   ]
  },
  {
   "cell_type": "code",
   "execution_count": 14,
   "metadata": {},
   "outputs": [
    {
     "name": "stdout",
     "output_type": "stream",
     "text": [
      "decoder_inputs[0]: [ 2 36  8  5 20  8  5 21 12 45 52  0  0  0  0  0  0  0  0  0  0  0  0  0\n",
      "  0  0  0  0  0  0  0  0]\n",
      "decoder_inputs.shape: (20000, 32)\n"
     ]
    }
   ],
   "source": [
    "decoder_inputs = pad_sequences(target_sequences_inputs, maxlen=max_len_target, padding='post')\n",
    "print(\"decoder_inputs[0]:\", decoder_inputs[0])\n",
    "print(\"decoder_inputs.shape:\", decoder_inputs.shape)"
   ]
  },
  {
   "cell_type": "code",
   "execution_count": 15,
   "metadata": {},
   "outputs": [],
   "source": [
    "decoder_targets = pad_sequences(target_sequences, maxlen=max_len_target, padding='post')"
   ]
  },
  {
   "cell_type": "code",
   "execution_count": 16,
   "metadata": {},
   "outputs": [],
   "source": [
    "emb_model1 = Word2Vec(sample_events, size = 10, workers = 2, sg = 1, min_count=1)\n",
    "emb_model2 = Word2Vec(sample_relations, size = 10, workers = 2, sg = 1, min_count = 1)\n",
    "probes = np.concatenate([sample_events, sample_relations])\n",
    "#random.shuffle(probes)\n",
    "emb_model5 = Word2Vec(probes, size = 10, workers = 2, sg = 1, min_count = 1)\n",
    "emb_model = Word2Vec(sample_events + sample_relations, size = 10, workers = 2, sg = 1, min_count=1) "
   ]
  },
  {
   "cell_type": "code",
   "execution_count": 17,
   "metadata": {},
   "outputs": [],
   "source": [
    "words1 = list(emb_model1.wv.vocab)\n",
    "words2 = list(emb_model2.wv.vocab)\n",
    "words5 = list(emb_model5.wv.vocab)\n",
    "words = list(emb_model.wv.vocab)"
   ]
  },
  {
   "cell_type": "code",
   "execution_count": 21,
   "metadata": {},
   "outputs": [],
   "source": [
    "# Reducing the number of words for the relations embedding\n",
    "n = len(words1)\n",
    "import collections\n",
    "word2word_num = {}\n",
    "for sequence in sample_relations:\n",
    "    for word in sequence:\n",
    "        if word not in word2word_num:\n",
    "            word2word_num[word] = 0 \n",
    "        word2word_num[word] += 1\n",
    "word_counter = collections.Counter(word2word_num)\n",
    "most_common_words = []\n",
    "common_words = word_counter.most_common(n)\n",
    "most_common_words = [words for words, counts in common_words]\n",
    "\n",
    "state2vec1 = {}\n",
    "for s in words1:\n",
    "    state2vec1[s] = emb_model1.wv.__getitem__(s)\n",
    "state2vec2 = {}\n",
    "for s in words2:\n",
    "    state2vec2[s] = emb_model2.wv.__getitem__(s)\n",
    "word2vec = {}\n",
    "for s in words:\n",
    "    word2vec[s] = emb_model.wv.__getitem__(s)"
   ]
  },
  {
   "cell_type": "code",
   "execution_count": 23,
   "metadata": {},
   "outputs": [],
   "source": [
    "X1 = emb_model1.wv.__getitem__(emb_model1.wv.vocab)\n",
    "X2 = emb_model2.wv.__getitem__(emb_model2.wv.vocab)\n",
    "X5 = emb_model5.wv.__getitem__(emb_model5.wv.vocab)"
   ]
  },
  {
   "cell_type": "code",
   "execution_count": 26,
   "metadata": {},
   "outputs": [
    {
     "data": {
      "image/png": "[encoded data removed]",
      "text/plain": [
       "<Figure size 800x640 with 1 Axes>"
      ]
     },
     "metadata": {},
     "output_type": "display_data"
    }
   ],
   "source": [
    "#print(word2vec)\n",
    "X = emb_model.wv.__getitem__(emb_model.wv.vocab)\n",
    "pca = PCA(n_components=2, whiten = True)\n",
    "result = pca.fit_transform(X)\n",
    "plt.figure(figsize=(10, 8), dpi=80)\n",
    "plt.scatter(result1[:, 0], result1[:, 1])\n",
    "words = list(emb_model.wv.vocab)\n",
    "for i, word in enumerate(words1):\n",
    "    plt.annotate(word, xy=(result1[i, 0], result1[i, 1]))\n",
    "plt.show()"
   ]
  },
  {
   "cell_type": "code",
   "execution_count": 27,
   "metadata": {},
   "outputs": [
    {
     "data": {
      "image/png": "[encoded data removed]",
      "text/plain": [
       "<Figure size 800x640 with 1 Axes>"
      ]
     },
     "metadata": {},
     "output_type": "display_data"
    }
   ],
   "source": [
    "#print(word2vec)\n",
    "X1 = emb_model1.wv.__getitem__(emb_model1.wv.vocab)\n",
    "pca = PCA(n_components=2, whiten = True)\n",
    "result1 = pca.fit_transform(X1)\n",
    "plt.figure(figsize=(10, 8), dpi=80)\n",
    "plt.scatter(result1[:, 0], result1[:, 1])\n",
    "words1 = list(emb_model1.wv.vocab)\n",
    "for i, word in enumerate(words1):\n",
    "    plt.annotate(word, xy=(result1[i, 0], result1[i, 1]))\n",
    "plt.show()"
   ]
  },
  {
   "cell_type": "code",
   "execution_count": 28,
   "metadata": {},
   "outputs": [
    {
     "data": {
      "image/png": "[encoded data removed]",
      "text/plain": [
       "<Figure size 800x640 with 1 Axes>"
      ]
     },
     "metadata": {},
     "output_type": "display_data"
    }
   ],
   "source": [
    "#print(word2vec)\n",
    "X2 = emb_model2.wv.__getitem__(emb_model2.wv.vocab)\n",
    "pca = PCA(n_components=2, whiten = True)\n",
    "result2 = pca.fit_transform(X2)\n",
    "plt.figure(figsize=(10, 8), dpi=80)\n",
    "plt.scatter(result2[:, 0], result2[:, 1])\n",
    "words2 = list(emb_model2.wv.vocab)\n",
    "for i, word in enumerate(words2):\n",
    "    plt.annotate(word, xy=(result2[i, 0], result2[i, 1]))\n",
    "plt.show()"
   ]
  },
  {
   "cell_type": "code",
   "execution_count": 29,
   "metadata": {},
   "outputs": [
    {
     "name": "stdout",
     "output_type": "stream",
     "text": [
      "(30, 10)\n",
      "(30, 10)\n"
     ]
    }
   ],
   "source": [
    "state2vec3 = {}\n",
    "for s in most_common_words:\n",
    "    state2vec3[s] = state2vec2[s]\n",
    "X3 = [vec for word, vec in state2vec3.items()]\n",
    "X3 = np.asarray(X3)\n",
    "print(X3.shape)\n",
    "print(X1.shape)"
   ]
  },
  {
   "cell_type": "code",
   "execution_count": 30,
   "metadata": {},
   "outputs": [
    {
     "data": {
      "text/plain": [
       "array([[ 0.24863139,  0.26250046, -0.6361254 , -0.22513075, -0.29159203,\n",
       "         0.25720063, -0.6803947 , -0.1868924 , -0.908218  ,  0.2008265 ],\n",
       "       [ 0.11539733, -0.16056027, -1.1162279 , -0.10762128, -0.53940237,\n",
       "         0.03741103, -0.56893057, -0.71567935, -0.3520432 ,  0.503781  ],\n",
       "       [-0.0723972 ,  0.14972174, -0.96616113, -0.28895766, -0.17091215,\n",
       "        -0.22124422, -0.3805682 , -0.5671239 , -0.4541193 ,  1.106025  ],\n",
       "       [ 0.16030145, -0.02636874, -1.0596019 , -0.6463108 ,  0.04638094,\n",
       "         0.4037651 , -0.6224761 , -0.16601309, -0.6400697 ,  0.80924755],\n",
       "       [-0.01836914,  0.00520262, -0.26546973, -0.44324404, -0.21809366,\n",
       "         0.3889895 , -1.2869005 , -0.16317545, -0.10447657,  0.5932635 ],\n",
       "       [-0.3241758 , -0.00731155, -0.41041747, -0.9208711 , -0.47817904,\n",
       "         0.37669328, -1.1458654 , -0.0174886 ,  0.06427789,  0.6223817 ],\n",
       "       [-0.22871673,  0.36178392,  0.13350229, -1.1622766 , -0.31231973,\n",
       "         0.11498933, -1.188423  , -0.84612674,  0.29698247,  0.22440082],\n",
       "       [-0.44294375,  0.21071175,  0.04945108, -0.93296146, -0.55148065,\n",
       "         0.24790668, -1.3624172 , -0.5263178 ,  0.24715427,  0.5275451 ],\n",
       "       [ 0.06281608,  0.03936257, -0.02896452, -0.02245361,  0.00772336,\n",
       "        -0.04013045, -0.00581679, -0.0209508 ,  0.06136647, -0.02768275],\n",
       "       [ 0.03563142, -0.20269327, -0.94134927, -0.4293072 , -0.16925198,\n",
       "         0.15044722, -0.55482656, -0.4857895 , -0.61764723,  0.5951957 ],\n",
       "       [ 0.28665683,  0.405586  , -0.7837386 ,  0.00427163,  0.08658648,\n",
       "        -0.2300311 , -0.7230402 , -0.13638224, -0.72767043,  0.30355483],\n",
       "       [ 0.6451724 ,  0.57495785, -0.42751238, -0.13081107,  0.46201098,\n",
       "        -0.29811954, -0.8797444 , -0.01075818, -0.73424137,  0.59616435],\n",
       "       [ 0.30351686,  0.39051935, -0.56514096, -0.41169417, -0.08289419,\n",
       "        -0.00978376, -0.4852074 , -0.82159865, -0.8843937 , -0.11974727],\n",
       "       [-0.52672493,  0.37258828, -0.0195621 , -0.859201  , -0.7569078 ,\n",
       "         0.32999766, -1.0427797 , -0.7337317 ,  0.08721137,  0.7004844 ],\n",
       "       [ 0.0808143 , -0.07404351, -0.82707405, -0.47636518, -0.09775627,\n",
       "         0.4109054 , -0.91467303, -0.11625819, -0.5212668 ,  0.72727567],\n",
       "       [-0.14331377,  0.24517795, -0.10575488, -0.3342918 , -0.78160596,\n",
       "        -0.2589134 , -0.6581816 , -0.19364505, -0.99367386, -0.00633219],\n",
       "       [-0.4874276 ,  0.58516586, -0.29980057, -0.20304933, -0.07505152,\n",
       "        -0.03763431, -0.72712034, -0.37810582, -0.6446992 ,  0.7297177 ],\n",
       "       [-0.1322129 ,  0.4398355 ,  0.2925684 , -0.06070138, -1.0335864 ,\n",
       "        -0.46884885, -1.159904  , -0.44248617, -0.12827832, -0.01807303],\n",
       "       [-0.38540924,  0.28685927, -0.50309813, -0.57675713, -0.54515576,\n",
       "        -0.16881002, -1.5927399 ,  0.41035727,  0.6362906 ,  0.01012704],\n",
       "       [-0.20915477,  0.7758657 , -0.3225114 , -0.9525307 ,  0.2125107 ,\n",
       "         0.03320074, -0.9730575 , -0.7997575 ,  0.42754725,  0.13844037],\n",
       "       [-0.21503589,  0.02013438, -0.2574683 , -1.3037387 , -0.22150001,\n",
       "        -0.2657501 , -1.1444573 , -0.4340048 ,  0.28805453, -0.16500795],\n",
       "       [-0.3167115 ,  0.8451478 , -0.3477838 , -0.29085088, -0.5905213 ,\n",
       "         0.283406  , -0.5452744 , -0.50026494, -0.2559727 ,  0.5844769 ],\n",
       "       [ 0.33014137,  0.82938975, -0.1739653 ,  0.3265434 , -0.3624863 ,\n",
       "        -0.16727854, -1.1043798 ,  0.16567427, -0.8931862 , -0.00528353],\n",
       "       [ 0.21179399,  0.7200974 , -0.597896  , -0.21656224, -0.21892367,\n",
       "         0.36431417, -0.5267556 , -0.5760389 , -0.96715415, -0.16429734],\n",
       "       [ 0.03382683,  1.0401924 , -0.95252943,  0.27080038,  0.05606353,\n",
       "        -0.2020356 , -0.65245545, -0.19862871, -0.5904105 ,  0.14133811],\n",
       "       [ 0.21671356,  0.6209029 ,  0.07387456, -0.15554151, -0.5854224 ,\n",
       "        -0.00881358, -1.0731903 , -0.2529424 , -0.7194012 , -0.46462268],\n",
       "       [-0.17300048,  1.0556414 , -0.69732505,  0.08446603, -0.7010409 ,\n",
       "        -0.25099742, -0.9687704 ,  0.45532644, -0.07037556, -0.02968445],\n",
       "       [ 0.1392735 ,  0.06244972, -0.05218235, -0.7226215 , -0.6673895 ,\n",
       "         0.23663734, -0.8660202 , -0.5912678 , -0.07647499,  1.1329038 ],\n",
       "       [-0.42135358, -0.41161087, -0.72366506, -0.82383704,  0.33604676,\n",
       "         0.00256357, -0.9027014 , -0.6299665 , -0.51575434,  0.73610306],\n",
       "       [ 1.1134595 ,  0.49829856, -0.5454565 , -0.42220098, -0.14078315,\n",
       "        -0.56111604, -0.40882337, -0.4724865 , -0.9619455 , -0.06817555],\n",
       "       [ 0.623895  ,  1.0678403 , -0.6511004 , -0.21219732, -0.3027361 ,\n",
       "        -0.5613398 , -0.35773098,  0.21880129, -0.87676454,  0.212041  ],\n",
       "       [ 1.1261289 ,  0.71681184, -0.4357034 , -0.24802318, -0.36876386,\n",
       "        -1.2108521 , -0.4339583 , -0.3480935 , -0.88550436,  0.27167842],\n",
       "       [ 0.16521594,  0.98109746, -0.3388903 , -0.63337743,  0.19269891,\n",
       "        -0.12851104, -0.70985085, -0.5797863 , -0.23328221, -0.43474746],\n",
       "       [ 0.7075328 ,  0.6572628 , -0.5525936 , -0.09512354, -0.5024005 ,\n",
       "        -0.53053504, -0.35703218, -0.38200682, -0.87159985,  0.1448935 ],\n",
       "       [-0.25679106,  0.2690612 , -0.27313986, -1.0964105 , -0.12169506,\n",
       "        -0.49794203, -0.64705896, -0.6787017 , -0.03427431, -0.05980833],\n",
       "       [-0.3082333 , -0.12386298, -0.5083227 , -0.13088907, -0.9377738 ,\n",
       "        -0.24048717, -0.89295197, -0.04970623, -0.6597291 ,  0.0764958 ],\n",
       "       [ 0.09024903,  0.37912065, -0.5485506 , -0.04742695, -0.74571735,\n",
       "        -0.41756487, -1.1830175 , -0.08879846, -0.56856614, -0.24215695],\n",
       "       [ 0.12989885,  0.22541693, -0.58077645, -0.20499311, -0.41960576,\n",
       "        -0.16947168, -0.5038779 , -0.13954449, -0.7553753 ,  0.22740176],\n",
       "       [ 0.1743063 ,  0.2660138 , -0.46668467, -1.3206255 ,  0.63260627,\n",
       "        -0.2649759 , -0.8606111 , -0.8209486 , -0.43552452, -0.6479374 ],\n",
       "       [ 0.33009702,  0.16580921, -0.5508828 , -1.1372483 ,  0.19184567,\n",
       "        -0.2448251 , -0.66413015, -0.6689684 ,  0.20880997,  0.64839244],\n",
       "       [-0.7475647 , -0.41762978, -0.25857466, -0.71055716, -0.3230474 ,\n",
       "        -0.5039738 , -0.8317754 , -0.5388566 , -0.78336203,  0.53767896],\n",
       "       [ 0.32512307,  1.075642  , -0.5358383 , -0.610058  ,  0.4221916 ,\n",
       "        -1.0100296 , -0.6310472 , -0.55790126, -0.05855413, -0.48613083],\n",
       "       [-0.1539005 ,  0.06387096, -0.39869183, -0.5625005 , -0.45715475,\n",
       "        -0.40183985, -0.56960315, -0.249507  , -0.51141   ,  0.3134781 ],\n",
       "       [-0.41316032,  0.22553858,  0.09283894, -0.7272905 , -0.5263135 ,\n",
       "         0.0983327 , -1.2864134 , -0.40429914,  0.18789282,  0.3563638 ],\n",
       "       [ 0.03051606,  0.13520342, -0.49625242, -0.41049153, -0.3128568 ,\n",
       "        -0.0929427 , -0.50991553, -0.35057035, -0.41001064,  0.45285985],\n",
       "       [-0.20024054,  0.33327383,  0.09423369,  0.15961634, -1.3708178 ,\n",
       "        -0.5661435 , -1.3027383 , -0.26210314, -0.2610101 , -0.22269025],\n",
       "       [ 0.13304515,  0.7297965 , -0.6082965 , -0.32913294, -1.0237197 ,\n",
       "        -1.1370629 , -0.8452919 ,  0.7738985 ,  0.1921562 , -0.06563343],\n",
       "       [ 0.51770455,  0.7745924 , -0.7651807 ,  0.26195797, -0.7126101 ,\n",
       "        -0.47612238, -0.93729573,  0.34462303, -0.9226546 , -0.46768147],\n",
       "       [ 0.02686293,  0.5851508 , -0.56581223, -0.9827664 ,  0.42022085,\n",
       "        -0.2831954 , -0.8268329 , -0.6686319 ,  0.3823231 ,  0.11375411],\n",
       "       [ 0.53656894,  0.72113645, -0.5226896 , -0.01906649, -0.24635625,\n",
       "        -0.41153574, -0.60075206, -0.03648882, -0.7444355 , -0.0097402 ],\n",
       "       [ 0.36366367, -0.05106263, -0.6209328 , -0.47192687, -0.29546088,\n",
       "        -0.02431795, -0.59206665, -0.33576787, -0.40061647,  0.84879076],\n",
       "       [ 0.08087032,  0.48843044, -0.49482223, -0.8790871 ,  0.20245695,\n",
       "        -0.5450701 , -0.71511406, -0.33541024,  0.2138214 , -0.20981172],\n",
       "       [ 0.05922739,  0.40721485, -0.46732363, -0.5143854 , -0.1840155 ,\n",
       "        -0.31492734, -0.87982094, -0.35047388, -0.13596773,  0.03244135],\n",
       "       [ 0.03313801,  0.76576734, -0.5231099 , -0.8591107 ,  0.35899886,\n",
       "        -0.37286842, -0.9212778 , -0.6531244 ,  0.39295733, -0.05935939],\n",
       "       [ 0.15084255,  0.68426204, -0.75104123, -0.03319884, -0.1732843 ,\n",
       "        -0.2057191 , -0.5474994 , -0.08140529, -0.46953884,  0.24991088],\n",
       "       [ 0.16731927,  0.45314056, -0.5311325 , -0.16243231, -0.25541037,\n",
       "        -0.16351706, -0.59335774, -0.2232351 , -0.4030373 ,  0.172214  ]],\n",
       "      dtype=float32)"
      ]
     },
     "execution_count": 30,
     "metadata": {},
     "output_type": "execute_result"
    }
   ],
   "source": [
    "from scipy.linalg import orthogonal_procrustes\n",
    "R, sca = orthogonal_procrustes(X3, X1)\n",
    "X4 = X3.dot(R)\n",
    "X5 = X2.dot(R)\n",
    "X5"
   ]
  },
  {
   "cell_type": "code",
   "execution_count": 31,
   "metadata": {},
   "outputs": [
    {
     "data": {
      "text/plain": [
       "{'7s14': array([ 0.24863139,  0.26250046, -0.6361254 , -0.22513075, -0.29159203,\n",
       "         0.25720063, -0.6803947 , -0.1868924 , -0.908218  ,  0.2008265 ],\n",
       "       dtype=float32),\n",
       " '14s8': array([ 0.11539733, -0.16056027, -1.1162279 , -0.10762128, -0.53940237,\n",
       "         0.03741103, -0.56893057, -0.71567935, -0.3520432 ,  0.503781  ],\n",
       "       dtype=float32),\n",
       " '8s2': array([-0.0723972 ,  0.14972174, -0.96616113, -0.28895766, -0.17091215,\n",
       "        -0.22124422, -0.3805682 , -0.5671239 , -0.4541193 ,  1.106025  ],\n",
       "       dtype=float32),\n",
       " '2s14': array([ 0.16030145, -0.02636874, -1.0596019 , -0.6463108 ,  0.04638094,\n",
       "         0.4037651 , -0.6224761 , -0.16601309, -0.6400697 ,  0.80924755],\n",
       "       dtype=float32),\n",
       " '2s5': array([-0.01836914,  0.00520262, -0.26546973, -0.44324404, -0.21809366,\n",
       "         0.3889895 , -1.2869005 , -0.16317545, -0.10447657,  0.5932635 ],\n",
       "       dtype=float32),\n",
       " '5s15': array([-0.3241758 , -0.00731155, -0.41041747, -0.9208711 , -0.47817904,\n",
       "         0.37669328, -1.1458654 , -0.0174886 ,  0.06427789,  0.6223817 ],\n",
       "       dtype=float32),\n",
       " '15s28': array([-0.22871673,  0.36178392,  0.13350229, -1.1622766 , -0.31231973,\n",
       "         0.11498933, -1.188423  , -0.84612674,  0.29698247,  0.22440082],\n",
       "       dtype=float32),\n",
       " '28s5': array([-0.44294375,  0.21071175,  0.04945108, -0.93296146, -0.55148065,\n",
       "         0.24790668, -1.3624172 , -0.5263178 ,  0.24715427,  0.5275451 ],\n",
       "       dtype=float32),\n",
       " '13s11': array([ 0.06281608,  0.03936257, -0.02896452, -0.02245361,  0.00772336,\n",
       "        -0.04013045, -0.00581679, -0.0209508 ,  0.06136647, -0.02768275],\n",
       "       dtype=float32),\n",
       " '10s8': array([ 0.03563142, -0.20269327, -0.94134927, -0.4293072 , -0.16925198,\n",
       "         0.15044722, -0.55482656, -0.4857895 , -0.61764723,  0.5951957 ],\n",
       "       dtype=float32),\n",
       " '2s23': array([ 0.28665683,  0.405586  , -0.7837386 ,  0.00427163,  0.08658648,\n",
       "        -0.2300311 , -0.7230402 , -0.13638224, -0.72767043,  0.30355483],\n",
       "       dtype=float32),\n",
       " '23s22': array([ 0.6451724 ,  0.57495785, -0.42751238, -0.13081107,  0.46201098,\n",
       "        -0.29811954, -0.8797444 , -0.01075818, -0.73424137,  0.59616435],\n",
       "       dtype=float32),\n",
       " '22s18': array([ 0.30351686,  0.39051935, -0.56514096, -0.41169417, -0.08289419,\n",
       "        -0.00978376, -0.4852074 , -0.82159865, -0.8843937 , -0.11974727],\n",
       "       dtype=float32),\n",
       " '15s20': array([-0.52672493,  0.37258828, -0.0195621 , -0.859201  , -0.7569078 ,\n",
       "         0.32999766, -1.0427797 , -0.7337317 ,  0.08721137,  0.7004844 ],\n",
       "       dtype=float32),\n",
       " '2s1': array([ 0.0808143 , -0.07404351, -0.82707405, -0.47636518, -0.09775627,\n",
       "         0.4109054 , -0.91467303, -0.11625819, -0.5212668 ,  0.72727567],\n",
       "       dtype=float32),\n",
       " '7s16': array([-0.14331377,  0.24517795, -0.10575488, -0.3342918 , -0.78160596,\n",
       "        -0.2589134 , -0.6581816 , -0.19364505, -0.99367386, -0.00633219],\n",
       "       dtype=float32),\n",
       " '16s2': array([-0.4874276 ,  0.58516586, -0.29980057, -0.20304933, -0.07505152,\n",
       "        -0.03763431, -0.72712034, -0.37810582, -0.6446992 ,  0.7297177 ],\n",
       "       dtype=float32),\n",
       " '9s4': array([-0.1322129 ,  0.4398355 ,  0.2925684 , -0.06070138, -1.0335864 ,\n",
       "        -0.46884885, -1.159904  , -0.44248617, -0.12827832, -0.01807303],\n",
       "       dtype=float32),\n",
       " '4s15': array([-0.38540924,  0.28685927, -0.50309813, -0.57675713, -0.54515576,\n",
       "        -0.16881002, -1.5927399 ,  0.41035727,  0.6362906 ,  0.01012704],\n",
       "       dtype=float32),\n",
       " '28s27': array([-0.20915477,  0.7758657 , -0.3225114 , -0.9525307 ,  0.2125107 ,\n",
       "         0.03320074, -0.9730575 , -0.7997575 ,  0.42754725,  0.13844037],\n",
       "       dtype=float32),\n",
       " '27s15': array([-0.21503589,  0.02013438, -0.2574683 , -1.3037387 , -0.22150001,\n",
       "        -0.2657501 , -1.1444573 , -0.4340048 ,  0.28805453, -0.16500795],\n",
       "       dtype=float32),\n",
       " '15s7': array([-0.3167115 ,  0.8451478 , -0.3477838 , -0.29085088, -0.5905213 ,\n",
       "         0.283406  , -0.5452744 , -0.50026494, -0.2559727 ,  0.5844769 ],\n",
       "       dtype=float32),\n",
       " '7s22': array([ 0.33014137,  0.82938975, -0.1739653 ,  0.3265434 , -0.3624863 ,\n",
       "        -0.16727854, -1.1043798 ,  0.16567427, -0.8931862 , -0.00528353],\n",
       "       dtype=float32),\n",
       " '22s19': array([ 0.21179399,  0.7200974 , -0.597896  , -0.21656224, -0.21892367,\n",
       "         0.36431417, -0.5267556 , -0.5760389 , -0.96715415, -0.16429734],\n",
       "       dtype=float32),\n",
       " '19s7': array([ 0.03382683,  1.0401924 , -0.95252943,  0.27080038,  0.05606353,\n",
       "        -0.2020356 , -0.65245545, -0.19862871, -0.5904105 ,  0.14133811],\n",
       "       dtype=float32),\n",
       " '7s21': array([ 0.21671356,  0.6209029 ,  0.07387456, -0.15554151, -0.5854224 ,\n",
       "        -0.00881358, -1.0731903 , -0.2529424 , -0.7194012 , -0.46462268],\n",
       "       dtype=float32),\n",
       " '4s7': array([-0.17300048,  1.0556414 , -0.69732505,  0.08446603, -0.7010409 ,\n",
       "        -0.25099742, -0.9687704 ,  0.45532644, -0.07037556, -0.02968445],\n",
       "       dtype=float32),\n",
       " '15s24': array([ 0.1392735 ,  0.06244972, -0.05218235, -0.7226215 , -0.6673895 ,\n",
       "         0.23663734, -0.8660202 , -0.5912678 , -0.07647499,  1.1329038 ],\n",
       "       dtype=float32),\n",
       " '24s14': array([-0.42135358, -0.41161087, -0.72366506, -0.82383704,  0.33604676,\n",
       "         0.00256357, -0.9027014 , -0.6299665 , -0.51575434,  0.73610306],\n",
       "       dtype=float32),\n",
       " '22s6': array([ 1.1134595 ,  0.49829856, -0.5454565 , -0.42220098, -0.14078315,\n",
       "        -0.56111604, -0.40882337, -0.4724865 , -0.9619455 , -0.06817555],\n",
       "       dtype=float32),\n",
       " '6s12': array([ 0.623895  ,  1.0678403 , -0.6511004 , -0.21219732, -0.3027361 ,\n",
       "        -0.5613398 , -0.35773098,  0.21880129, -0.87676454,  0.212041  ],\n",
       "       dtype=float32),\n",
       " '12s11': array([ 1.1261289 ,  0.71681184, -0.4357034 , -0.24802318, -0.36876386,\n",
       "        -1.2108521 , -0.4339583 , -0.3480935 , -0.88550436,  0.27167842],\n",
       "       dtype=float32),\n",
       " '25s19': array([ 0.16521594,  0.98109746, -0.3388903 , -0.63337743,  0.19269891,\n",
       "        -0.12851104, -0.70985085, -0.5797863 , -0.23328221, -0.43474746],\n",
       "       dtype=float32),\n",
       " '12s19': array([ 0.7075328 ,  0.6572628 , -0.5525936 , -0.09512354, -0.5024005 ,\n",
       "        -0.53053504, -0.35703218, -0.38200682, -0.87159985,  0.1448935 ],\n",
       "       dtype=float32),\n",
       " '27s2': array([-0.25679106,  0.2690612 , -0.27313986, -1.0964105 , -0.12169506,\n",
       "        -0.49794203, -0.64705896, -0.6787017 , -0.03427431, -0.05980833],\n",
       "       dtype=float32),\n",
       " '17s16': array([-0.3082333 , -0.12386298, -0.5083227 , -0.13088907, -0.9377738 ,\n",
       "        -0.24048717, -0.89295197, -0.04970623, -0.6597291 ,  0.0764958 ],\n",
       "       dtype=float32),\n",
       " '17s30': array([ 0.09024903,  0.37912065, -0.5485506 , -0.04742695, -0.74571735,\n",
       "        -0.41756487, -1.1830175 , -0.08879846, -0.56856614, -0.24215695],\n",
       "       dtype=float32),\n",
       " '3s16': array([ 0.12989885,  0.22541693, -0.58077645, -0.20499311, -0.41960576,\n",
       "        -0.16947168, -0.5038779 , -0.13954449, -0.7553753 ,  0.22740176],\n",
       "       dtype=float32),\n",
       " '27s25': array([ 0.1743063 ,  0.2660138 , -0.46668467, -1.3206255 ,  0.63260627,\n",
       "        -0.2649759 , -0.8606111 , -0.8209486 , -0.43552452, -0.6479374 ],\n",
       "       dtype=float32),\n",
       " '25s24': array([ 0.33009702,  0.16580921, -0.5508828 , -1.1372483 ,  0.19184567,\n",
       "        -0.2448251 , -0.66413015, -0.6689684 ,  0.20880997,  0.64839244],\n",
       "       dtype=float32),\n",
       " '24s16': array([-0.7475647 , -0.41762978, -0.25857466, -0.71055716, -0.3230474 ,\n",
       "        -0.5039738 , -0.8317754 , -0.5388566 , -0.78336203,  0.53767896],\n",
       "       dtype=float32),\n",
       " '25s23': array([ 0.32512307,  1.075642  , -0.5358383 , -0.610058  ,  0.4221916 ,\n",
       "        -1.0100296 , -0.6310472 , -0.55790126, -0.05855413, -0.48613083],\n",
       "       dtype=float32),\n",
       " '29s16': array([-0.1539005 ,  0.06387096, -0.39869183, -0.5625005 , -0.45715475,\n",
       "        -0.40183985, -0.56960315, -0.249507  , -0.51141   ,  0.3134781 ],\n",
       "       dtype=float32),\n",
       " '9s5': array([-0.41316032,  0.22553858,  0.09283894, -0.7272905 , -0.5263135 ,\n",
       "         0.0983327 , -1.2864134 , -0.40429914,  0.18789282,  0.3563638 ],\n",
       "       dtype=float32),\n",
       " '3s2': array([ 0.03051606,  0.13520342, -0.49625242, -0.41049153, -0.3128568 ,\n",
       "        -0.0929427 , -0.50991553, -0.35057035, -0.41001064,  0.45285985],\n",
       "       dtype=float32),\n",
       " '17s4': array([-0.20024054,  0.33327383,  0.09423369,  0.15961634, -1.3708178 ,\n",
       "        -0.5661435 , -1.3027383 , -0.26210314, -0.2610101 , -0.22269025],\n",
       "       dtype=float32),\n",
       " '26s17': array([ 0.13304515,  0.7297965 , -0.6082965 , -0.32913294, -1.0237197 ,\n",
       "        -1.1370629 , -0.8452919 ,  0.7738985 ,  0.1921562 , -0.06563343],\n",
       "       dtype=float32),\n",
       " '17s12': array([ 0.51770455,  0.7745924 , -0.7651807 ,  0.26195797, -0.7126101 ,\n",
       "        -0.47612238, -0.93729573,  0.34462303, -0.9226546 , -0.46768147],\n",
       "       dtype=float32),\n",
       " '13s27': array([ 0.02686293,  0.5851508 , -0.56581223, -0.9827664 ,  0.42022085,\n",
       "        -0.2831954 , -0.8268329 , -0.6686319 ,  0.3823231 ,  0.11375411],\n",
       "       dtype=float32),\n",
       " '3s12': array([ 0.53656894,  0.72113645, -0.5226896 , -0.01906649, -0.24635625,\n",
       "        -0.41153574, -0.60075206, -0.03648882, -0.7444355 , -0.0097402 ],\n",
       "       dtype=float32),\n",
       " '13s24': array([ 0.36366367, -0.05106263, -0.6209328 , -0.47192687, -0.29546088,\n",
       "        -0.02431795, -0.59206665, -0.33576787, -0.40061647,  0.84879076],\n",
       "       dtype=float32),\n",
       " '3s29': array([ 0.08087032,  0.48843044, -0.49482223, -0.8790871 ,  0.20245695,\n",
       "        -0.5450701 , -0.71511406, -0.33541024,  0.2138214 , -0.20981172],\n",
       "       dtype=float32),\n",
       " '29s30': array([ 0.05922739,  0.40721485, -0.46732363, -0.5143854 , -0.1840155 ,\n",
       "        -0.31492734, -0.87982094, -0.35047388, -0.13596773,  0.03244135],\n",
       "       dtype=float32),\n",
       " '29s27': array([ 0.03313801,  0.76576734, -0.5231099 , -0.8591107 ,  0.35899886,\n",
       "        -0.37286842, -0.9212778 , -0.6531244 ,  0.39295733, -0.05935939],\n",
       "       dtype=float32),\n",
       " '26s7': array([ 0.15084255,  0.68426204, -0.75104123, -0.03319884, -0.1732843 ,\n",
       "        -0.2057191 , -0.5474994 , -0.08140529, -0.46953884,  0.24991088],\n",
       "       dtype=float32),\n",
       " '3s7': array([ 0.16731927,  0.45314056, -0.5311325 , -0.16243231, -0.25541037,\n",
       "        -0.16351706, -0.59335774, -0.2232351 , -0.4030373 ,  0.172214  ],\n",
       "       dtype=float32)}"
      ]
     },
     "execution_count": 31,
     "metadata": {},
     "output_type": "execute_result"
    }
   ],
   "source": [
    "state2vec5 = {}\n",
    "state2vec5 = state2vec2\n",
    "for i, j in enumerate(state2vec5):\n",
    "    state2vec5[j] = X5[i,:]\n",
    "state2vec5"
   ]
  },
  {
   "cell_type": "code",
   "execution_count": 32,
   "metadata": {},
   "outputs": [
    {
     "data": {
      "text/plain": [
       "{'7': array([-0.16921517,  0.3313596 , -0.38308647, -0.35007694, -0.39797884,\n",
       "        -0.42269325, -0.294349  , -0.4907067 , -0.39227977,  0.9061017 ],\n",
       "       dtype=float32),\n",
       " '14': array([ 0.14609522,  0.20032471, -0.93695885,  0.21956854, -0.5437358 ,\n",
       "         0.33067346, -0.93216604, -0.16262797, -0.45537102,  0.19407605],\n",
       "       dtype=float32),\n",
       " '8': array([-0.32371473,  0.18774632, -0.8381048 , -0.19883811, -0.48746017,\n",
       "         0.51241654, -0.66255903,  0.07957238, -0.6443755 ,  0.57189935],\n",
       "       dtype=float32),\n",
       " '2': array([-0.13127665,  0.231062  , -1.0374521 , -0.42132956, -0.12529354,\n",
       "         0.5708828 , -0.67078805, -0.17996779, -0.24761444,  0.2238233 ],\n",
       "       dtype=float32),\n",
       " '5': array([ 0.42012417,  0.3346323 , -0.40624994, -0.169521  ,  0.00950984,\n",
       "         0.23529048, -0.85237116,  0.11935586, -1.2095678 ,  0.12684171],\n",
       "       dtype=float32),\n",
       " '15': array([ 0.1622701 ,  0.7744402 , -0.45268002,  0.04920814,  0.08551706,\n",
       "        -0.34778613, -0.79749507,  0.19814213, -1.0525172 ,  0.28909343],\n",
       "       dtype=float32),\n",
       " '28': array([ 0.56773746,  0.5958055 , -0.7483593 , -0.5655774 ,  0.16561532,\n",
       "        -0.1406604 , -0.42307064,  0.13704568, -1.1099408 ,  0.12238994],\n",
       "       dtype=float32),\n",
       " '13': array([ 0.16635323,  0.04951085, -0.18262196, -0.50929683,  0.02026624,\n",
       "         0.3308321 , -0.9510493 , -0.05980205, -0.29191303,  0.4508574 ],\n",
       "       dtype=float32),\n",
       " '11': array([-0.2621896 ,  0.1932565 , -0.43300736, -0.5240764 , -0.8701819 ,\n",
       "        -0.22912814, -0.7077892 , -1.4186636 ,  0.38424802,  0.41606966],\n",
       "       dtype=float32),\n",
       " '10': array([-0.08335265,  0.22348952, -0.97465503,  0.1424063 , -0.47034153,\n",
       "         0.47755432, -0.8017181 , -0.03784804, -0.5744758 ,  0.41000703],\n",
       "       dtype=float32),\n",
       " '23': array([ 0.4410053 ,  0.3279716 , -0.28281352, -0.23286171, -0.617189  ,\n",
       "         0.09476116, -0.68957955, -0.25496235, -0.01862176,  1.1609343 ],\n",
       "       dtype=float32),\n",
       " '22': array([-0.16015185,  0.18787979,  0.22988512,  0.0233705 , -0.6397169 ,\n",
       "         0.28038236, -0.8599361 , -0.88818306, -0.5410771 ,  0.5234915 ],\n",
       "       dtype=float32),\n",
       " '18': array([ 0.46235344,  0.74952924, -0.7363406 , -0.1324881 , -0.28588986,\n",
       "         0.1949864 , -0.17109525, -0.9202108 , -0.3870873 ,  0.7344049 ],\n",
       "       dtype=float32),\n",
       " '20': array([ 0.2607311 ,  0.5024295 , -0.850256  , -0.66166115,  0.10907104,\n",
       "        -0.5280327 , -0.60670733,  0.44274452, -1.161346  , -0.09178343],\n",
       "       dtype=float32),\n",
       " '1': array([-0.00680784,  0.41680044, -0.6649356 , -0.20127122, -0.35544002,\n",
       "         0.5192717 , -0.9836255 ,  0.2768498 , -0.50919616,  0.3427077 ],\n",
       "       dtype=float32),\n",
       " '16': array([ 0.13496855,  0.18184568, -0.5977076 , -0.09961341, -0.06435227,\n",
       "         0.03595927, -0.7485421 , -0.35250494, -0.49693972,  0.19685522],\n",
       "       dtype=float32),\n",
       " '9': array([ 0.14986971,  0.30972627, -0.45859024, -0.47089145, -0.05377072,\n",
       "        -0.891992  , -0.42846316, -0.09887474, -1.1036463 ,  0.03938055],\n",
       "       dtype=float32),\n",
       " '4': array([ 3.9314365e-01,  4.7518593e-01,  6.9722492e-04, -4.6962154e-01,\n",
       "         2.6469421e-01, -4.2627370e-01, -7.3570991e-01, -3.4695101e-01,\n",
       "        -5.9981692e-01, -9.3459513e-04], dtype=float32),\n",
       " '27': array([ 0.37600935,  0.4095555 , -0.43647823, -0.19364874, -0.10518584,\n",
       "        -0.04821404, -0.5097174 , -0.37650543, -1.0904702 , -0.01226709],\n",
       "       dtype=float32),\n",
       " '19': array([ 0.36397755,  0.7208852 , -0.30664206, -0.31266457, -0.63809764,\n",
       "         0.16163741, -0.31088406, -0.8839021 , -0.22887273,  0.50747824],\n",
       "       dtype=float32),\n",
       " '21': array([ 0.509994  ,  0.38745672, -0.09053561, -0.47621554, -0.35986948,\n",
       "        -0.43299064, -0.4352341 , -0.870263  , -0.37314066,  0.24480785],\n",
       "       dtype=float32),\n",
       " '24': array([-0.18485118,  0.49317494, -1.0497442 , -0.28796318, -0.21936417,\n",
       "         0.09683802, -0.47212607,  0.11398957, -0.7405469 ,  0.3104029 ],\n",
       "       dtype=float32),\n",
       " '6': array([-0.12006877,  0.21800676, -0.35990456, -0.3152941 , -0.68032694,\n",
       "        -0.06051876, -0.5733032 , -1.1043329 ,  0.10477027,  0.5800883 ],\n",
       "       dtype=float32),\n",
       " '12': array([ 0.24951702,  0.06487899,  0.20075202, -0.81791204, -0.42746606,\n",
       "         0.3083401 , -0.88865924, -0.6165495 ,  0.21624559,  0.9949331 ],\n",
       "       dtype=float32),\n",
       " '25': array([ 0.4032149 ,  0.48842937, -0.19571917, -0.4034947 ,  0.04108071,\n",
       "         0.260934  , -0.6644921 , -0.39630884, -0.35393524,  0.51363146],\n",
       "       dtype=float32),\n",
       " '17': array([-0.8478534 , -0.29874402, -0.05679154, -1.0743926 , -0.38127908,\n",
       "        -0.9137127 , -0.8645615 , -0.48345312, -0.25388092, -0.10817686],\n",
       "       dtype=float32),\n",
       " '30': array([-0.07754595,  0.6591187 , -0.0572935 , -1.6930574 ,  0.5695535 ,\n",
       "        -0.833323  , -1.6929255 , -0.80439514,  0.3374791 , -0.42334306],\n",
       "       dtype=float32),\n",
       " '3': array([-0.26837352,  0.29172677, -0.20776565, -0.493271  , -0.16580577,\n",
       "        -0.0592678 , -0.8530917 , -0.41637853,  0.07628906,  0.2878051 ],\n",
       "       dtype=float32),\n",
       " '29': array([-0.53355277, -0.1249095 , -0.03918809, -1.0945104 ,  0.19162479,\n",
       "        -0.42284274, -0.98696667, -0.19277827, -0.2319858 , -0.04182151],\n",
       "       dtype=float32),\n",
       " '26': array([-0.21312422,  0.33561376, -0.06361679, -0.8484509 , -0.04005439,\n",
       "        -0.59186953, -0.8385901 , -0.5453063 ,  0.16801956, -0.13430396],\n",
       "       dtype=float32),\n",
       " '7s14': array([ 0.24863139,  0.26250046, -0.6361254 , -0.22513075, -0.29159203,\n",
       "         0.25720063, -0.6803947 , -0.1868924 , -0.908218  ,  0.2008265 ],\n",
       "       dtype=float32),\n",
       " '14s8': array([ 0.11539733, -0.16056027, -1.1162279 , -0.10762128, -0.53940237,\n",
       "         0.03741103, -0.56893057, -0.71567935, -0.3520432 ,  0.503781  ],\n",
       "       dtype=float32),\n",
       " '8s2': array([-0.0723972 ,  0.14972174, -0.96616113, -0.28895766, -0.17091215,\n",
       "        -0.22124422, -0.3805682 , -0.5671239 , -0.4541193 ,  1.106025  ],\n",
       "       dtype=float32),\n",
       " '2s14': array([ 0.16030145, -0.02636874, -1.0596019 , -0.6463108 ,  0.04638094,\n",
       "         0.4037651 , -0.6224761 , -0.16601309, -0.6400697 ,  0.80924755],\n",
       "       dtype=float32),\n",
       " '2s5': array([-0.01836914,  0.00520262, -0.26546973, -0.44324404, -0.21809366,\n",
       "         0.3889895 , -1.2869005 , -0.16317545, -0.10447657,  0.5932635 ],\n",
       "       dtype=float32),\n",
       " '5s15': array([-0.3241758 , -0.00731155, -0.41041747, -0.9208711 , -0.47817904,\n",
       "         0.37669328, -1.1458654 , -0.0174886 ,  0.06427789,  0.6223817 ],\n",
       "       dtype=float32),\n",
       " '15s28': array([-0.22871673,  0.36178392,  0.13350229, -1.1622766 , -0.31231973,\n",
       "         0.11498933, -1.188423  , -0.84612674,  0.29698247,  0.22440082],\n",
       "       dtype=float32),\n",
       " '28s5': array([-0.44294375,  0.21071175,  0.04945108, -0.93296146, -0.55148065,\n",
       "         0.24790668, -1.3624172 , -0.5263178 ,  0.24715427,  0.5275451 ],\n",
       "       dtype=float32),\n",
       " '13s11': array([ 0.06281608,  0.03936257, -0.02896452, -0.02245361,  0.00772336,\n",
       "        -0.04013045, -0.00581679, -0.0209508 ,  0.06136647, -0.02768275],\n",
       "       dtype=float32),\n",
       " '10s8': array([ 0.03563142, -0.20269327, -0.94134927, -0.4293072 , -0.16925198,\n",
       "         0.15044722, -0.55482656, -0.4857895 , -0.61764723,  0.5951957 ],\n",
       "       dtype=float32),\n",
       " '2s23': array([ 0.28665683,  0.405586  , -0.7837386 ,  0.00427163,  0.08658648,\n",
       "        -0.2300311 , -0.7230402 , -0.13638224, -0.72767043,  0.30355483],\n",
       "       dtype=float32),\n",
       " '23s22': array([ 0.6451724 ,  0.57495785, -0.42751238, -0.13081107,  0.46201098,\n",
       "        -0.29811954, -0.8797444 , -0.01075818, -0.73424137,  0.59616435],\n",
       "       dtype=float32),\n",
       " '22s18': array([ 0.30351686,  0.39051935, -0.56514096, -0.41169417, -0.08289419,\n",
       "        -0.00978376, -0.4852074 , -0.82159865, -0.8843937 , -0.11974727],\n",
       "       dtype=float32),\n",
       " '15s20': array([-0.52672493,  0.37258828, -0.0195621 , -0.859201  , -0.7569078 ,\n",
       "         0.32999766, -1.0427797 , -0.7337317 ,  0.08721137,  0.7004844 ],\n",
       "       dtype=float32),\n",
       " '2s1': array([ 0.0808143 , -0.07404351, -0.82707405, -0.47636518, -0.09775627,\n",
       "         0.4109054 , -0.91467303, -0.11625819, -0.5212668 ,  0.72727567],\n",
       "       dtype=float32),\n",
       " '7s16': array([-0.14331377,  0.24517795, -0.10575488, -0.3342918 , -0.78160596,\n",
       "        -0.2589134 , -0.6581816 , -0.19364505, -0.99367386, -0.00633219],\n",
       "       dtype=float32),\n",
       " '16s2': array([-0.4874276 ,  0.58516586, -0.29980057, -0.20304933, -0.07505152,\n",
       "        -0.03763431, -0.72712034, -0.37810582, -0.6446992 ,  0.7297177 ],\n",
       "       dtype=float32),\n",
       " '9s4': array([-0.1322129 ,  0.4398355 ,  0.2925684 , -0.06070138, -1.0335864 ,\n",
       "        -0.46884885, -1.159904  , -0.44248617, -0.12827832, -0.01807303],\n",
       "       dtype=float32),\n",
       " '4s15': array([-0.38540924,  0.28685927, -0.50309813, -0.57675713, -0.54515576,\n",
       "        -0.16881002, -1.5927399 ,  0.41035727,  0.6362906 ,  0.01012704],\n",
       "       dtype=float32),\n",
       " '28s27': array([-0.20915477,  0.7758657 , -0.3225114 , -0.9525307 ,  0.2125107 ,\n",
       "         0.03320074, -0.9730575 , -0.7997575 ,  0.42754725,  0.13844037],\n",
       "       dtype=float32),\n",
       " '27s15': array([-0.21503589,  0.02013438, -0.2574683 , -1.3037387 , -0.22150001,\n",
       "        -0.2657501 , -1.1444573 , -0.4340048 ,  0.28805453, -0.16500795],\n",
       "       dtype=float32),\n",
       " '15s7': array([-0.3167115 ,  0.8451478 , -0.3477838 , -0.29085088, -0.5905213 ,\n",
       "         0.283406  , -0.5452744 , -0.50026494, -0.2559727 ,  0.5844769 ],\n",
       "       dtype=float32),\n",
       " '7s22': array([ 0.33014137,  0.82938975, -0.1739653 ,  0.3265434 , -0.3624863 ,\n",
       "        -0.16727854, -1.1043798 ,  0.16567427, -0.8931862 , -0.00528353],\n",
       "       dtype=float32),\n",
       " '22s19': array([ 0.21179399,  0.7200974 , -0.597896  , -0.21656224, -0.21892367,\n",
       "         0.36431417, -0.5267556 , -0.5760389 , -0.96715415, -0.16429734],\n",
       "       dtype=float32),\n",
       " '19s7': array([ 0.03382683,  1.0401924 , -0.95252943,  0.27080038,  0.05606353,\n",
       "        -0.2020356 , -0.65245545, -0.19862871, -0.5904105 ,  0.14133811],\n",
       "       dtype=float32),\n",
       " '7s21': array([ 0.21671356,  0.6209029 ,  0.07387456, -0.15554151, -0.5854224 ,\n",
       "        -0.00881358, -1.0731903 , -0.2529424 , -0.7194012 , -0.46462268],\n",
       "       dtype=float32),\n",
       " '4s7': array([-0.17300048,  1.0556414 , -0.69732505,  0.08446603, -0.7010409 ,\n",
       "        -0.25099742, -0.9687704 ,  0.45532644, -0.07037556, -0.02968445],\n",
       "       dtype=float32),\n",
       " '15s24': array([ 0.1392735 ,  0.06244972, -0.05218235, -0.7226215 , -0.6673895 ,\n",
       "         0.23663734, -0.8660202 , -0.5912678 , -0.07647499,  1.1329038 ],\n",
       "       dtype=float32),\n",
       " '24s14': array([-0.42135358, -0.41161087, -0.72366506, -0.82383704,  0.33604676,\n",
       "         0.00256357, -0.9027014 , -0.6299665 , -0.51575434,  0.73610306],\n",
       "       dtype=float32),\n",
       " '22s6': array([ 1.1134595 ,  0.49829856, -0.5454565 , -0.42220098, -0.14078315,\n",
       "        -0.56111604, -0.40882337, -0.4724865 , -0.9619455 , -0.06817555],\n",
       "       dtype=float32),\n",
       " '6s12': array([ 0.623895  ,  1.0678403 , -0.6511004 , -0.21219732, -0.3027361 ,\n",
       "        -0.5613398 , -0.35773098,  0.21880129, -0.87676454,  0.212041  ],\n",
       "       dtype=float32),\n",
       " '12s11': array([ 1.1261289 ,  0.71681184, -0.4357034 , -0.24802318, -0.36876386,\n",
       "        -1.2108521 , -0.4339583 , -0.3480935 , -0.88550436,  0.27167842],\n",
       "       dtype=float32),\n",
       " '25s19': array([ 0.16521594,  0.98109746, -0.3388903 , -0.63337743,  0.19269891,\n",
       "        -0.12851104, -0.70985085, -0.5797863 , -0.23328221, -0.43474746],\n",
       "       dtype=float32),\n",
       " '12s19': array([ 0.7075328 ,  0.6572628 , -0.5525936 , -0.09512354, -0.5024005 ,\n",
       "        -0.53053504, -0.35703218, -0.38200682, -0.87159985,  0.1448935 ],\n",
       "       dtype=float32),\n",
       " '27s2': array([-0.25679106,  0.2690612 , -0.27313986, -1.0964105 , -0.12169506,\n",
       "        -0.49794203, -0.64705896, -0.6787017 , -0.03427431, -0.05980833],\n",
       "       dtype=float32),\n",
       " '17s16': array([-0.3082333 , -0.12386298, -0.5083227 , -0.13088907, -0.9377738 ,\n",
       "        -0.24048717, -0.89295197, -0.04970623, -0.6597291 ,  0.0764958 ],\n",
       "       dtype=float32),\n",
       " '17s30': array([ 0.09024903,  0.37912065, -0.5485506 , -0.04742695, -0.74571735,\n",
       "        -0.41756487, -1.1830175 , -0.08879846, -0.56856614, -0.24215695],\n",
       "       dtype=float32),\n",
       " '3s16': array([ 0.12989885,  0.22541693, -0.58077645, -0.20499311, -0.41960576,\n",
       "        -0.16947168, -0.5038779 , -0.13954449, -0.7553753 ,  0.22740176],\n",
       "       dtype=float32),\n",
       " '27s25': array([ 0.1743063 ,  0.2660138 , -0.46668467, -1.3206255 ,  0.63260627,\n",
       "        -0.2649759 , -0.8606111 , -0.8209486 , -0.43552452, -0.6479374 ],\n",
       "       dtype=float32),\n",
       " '25s24': array([ 0.33009702,  0.16580921, -0.5508828 , -1.1372483 ,  0.19184567,\n",
       "        -0.2448251 , -0.66413015, -0.6689684 ,  0.20880997,  0.64839244],\n",
       "       dtype=float32),\n",
       " '24s16': array([-0.7475647 , -0.41762978, -0.25857466, -0.71055716, -0.3230474 ,\n",
       "        -0.5039738 , -0.8317754 , -0.5388566 , -0.78336203,  0.53767896],\n",
       "       dtype=float32),\n",
       " '25s23': array([ 0.32512307,  1.075642  , -0.5358383 , -0.610058  ,  0.4221916 ,\n",
       "        -1.0100296 , -0.6310472 , -0.55790126, -0.05855413, -0.48613083],\n",
       "       dtype=float32),\n",
       " '29s16': array([-0.1539005 ,  0.06387096, -0.39869183, -0.5625005 , -0.45715475,\n",
       "        -0.40183985, -0.56960315, -0.249507  , -0.51141   ,  0.3134781 ],\n",
       "       dtype=float32),\n",
       " '9s5': array([-0.41316032,  0.22553858,  0.09283894, -0.7272905 , -0.5263135 ,\n",
       "         0.0983327 , -1.2864134 , -0.40429914,  0.18789282,  0.3563638 ],\n",
       "       dtype=float32),\n",
       " '3s2': array([ 0.03051606,  0.13520342, -0.49625242, -0.41049153, -0.3128568 ,\n",
       "        -0.0929427 , -0.50991553, -0.35057035, -0.41001064,  0.45285985],\n",
       "       dtype=float32),\n",
       " '17s4': array([-0.20024054,  0.33327383,  0.09423369,  0.15961634, -1.3708178 ,\n",
       "        -0.5661435 , -1.3027383 , -0.26210314, -0.2610101 , -0.22269025],\n",
       "       dtype=float32),\n",
       " '26s17': array([ 0.13304515,  0.7297965 , -0.6082965 , -0.32913294, -1.0237197 ,\n",
       "        -1.1370629 , -0.8452919 ,  0.7738985 ,  0.1921562 , -0.06563343],\n",
       "       dtype=float32),\n",
       " '17s12': array([ 0.51770455,  0.7745924 , -0.7651807 ,  0.26195797, -0.7126101 ,\n",
       "        -0.47612238, -0.93729573,  0.34462303, -0.9226546 , -0.46768147],\n",
       "       dtype=float32),\n",
       " '13s27': array([ 0.02686293,  0.5851508 , -0.56581223, -0.9827664 ,  0.42022085,\n",
       "        -0.2831954 , -0.8268329 , -0.6686319 ,  0.3823231 ,  0.11375411],\n",
       "       dtype=float32),\n",
       " '3s12': array([ 0.53656894,  0.72113645, -0.5226896 , -0.01906649, -0.24635625,\n",
       "        -0.41153574, -0.60075206, -0.03648882, -0.7444355 , -0.0097402 ],\n",
       "       dtype=float32),\n",
       " '13s24': array([ 0.36366367, -0.05106263, -0.6209328 , -0.47192687, -0.29546088,\n",
       "        -0.02431795, -0.59206665, -0.33576787, -0.40061647,  0.84879076],\n",
       "       dtype=float32),\n",
       " '3s29': array([ 0.08087032,  0.48843044, -0.49482223, -0.8790871 ,  0.20245695,\n",
       "        -0.5450701 , -0.71511406, -0.33541024,  0.2138214 , -0.20981172],\n",
       "       dtype=float32),\n",
       " '29s30': array([ 0.05922739,  0.40721485, -0.46732363, -0.5143854 , -0.1840155 ,\n",
       "        -0.31492734, -0.87982094, -0.35047388, -0.13596773,  0.03244135],\n",
       "       dtype=float32),\n",
       " '29s27': array([ 0.03313801,  0.76576734, -0.5231099 , -0.8591107 ,  0.35899886,\n",
       "        -0.37286842, -0.9212778 , -0.6531244 ,  0.39295733, -0.05935939],\n",
       "       dtype=float32),\n",
       " '26s7': array([ 0.15084255,  0.68426204, -0.75104123, -0.03319884, -0.1732843 ,\n",
       "        -0.2057191 , -0.5474994 , -0.08140529, -0.46953884,  0.24991088],\n",
       "       dtype=float32),\n",
       " '3s7': array([ 0.16731927,  0.45314056, -0.5311325 , -0.16243231, -0.25541037,\n",
       "        -0.16351706, -0.59335774, -0.2232351 , -0.4030373 ,  0.172214  ],\n",
       "       dtype=float32)}"
      ]
     },
     "execution_count": 32,
     "metadata": {},
     "output_type": "execute_result"
    }
   ],
   "source": [
    "state2vec6 = {**state2vec1, **state2vec5}\n",
    "state2vec6"
   ]
  },
  {
   "cell_type": "code",
   "execution_count": 33,
   "metadata": {},
   "outputs": [
    {
     "data": {
      "image/png": "[encoded data removed]",
      "text/plain": [
       "<Figure size 800x640 with 1 Axes>"
      ]
     },
     "metadata": {},
     "output_type": "display_data"
    }
   ],
   "source": [
    "X6 = [vec for word, vec in state2vec6.items()]\n",
    "pca = PCA(n_components=2, whiten = True)\n",
    "result6 = pca.fit_transform(np.array(X6))\n",
    "plt.figure(figsize=(10, 8), dpi=80)\n",
    "plt.scatter(result6[:, 0], result6[:, 1])\n",
    "words6 = [word for word, vec in state2vec6.items()] \n",
    "for i, word in enumerate(words6):\n",
    "    plt.annotate(word, xy=(result6[i, 0], result6[i, 1]))\n",
    "plt.show()"
   ]
  },
  {
   "cell_type": "code",
   "execution_count": 34,
   "metadata": {},
   "outputs": [],
   "source": [
    "num_words = min(MAX_NUM_WORDS, len(word2idx_inputs) + 1)\n",
    "embedding_matrix = np.zeros((num_words + 1, EMBEDDING_DIM))\n",
    "for word, i in word2idx_inputs.items():\n",
    "    embedding_vector = state2vec6.get(word)\n",
    "    embedding_matrix[i] = embedding_vector"
   ]
  },
  {
   "cell_type": "code",
   "execution_count": 35,
   "metadata": {},
   "outputs": [],
   "source": [
    "embedding_layer = Embedding(num_words, EMBEDDING_DIM, weights=[embedding_matrix], input_length = max_len_input,\n",
    "                            trainable=False)"
   ]
  },
  {
   "cell_type": "code",
   "execution_count": 36,
   "metadata": {},
   "outputs": [],
   "source": [
    "decoder_targets_one_hot = np.zeros((len(sample_relations + sample_events), max_len_target, num_words_output), dtype='float32')"
   ]
  },
  {
   "cell_type": "code",
   "execution_count": 37,
   "metadata": {},
   "outputs": [],
   "source": [
    "for i, d in enumerate(decoder_targets):\n",
    "    for t, word in enumerate(d):\n",
    "        decoder_targets_one_hot[i, t, word] = 1"
   ]
  },
  {
   "cell_type": "code",
   "execution_count": 47,
   "metadata": {},
   "outputs": [],
   "source": [
    "encoder_inputs_placeholder = Input(shape=(max_len_input,))\n",
    "x = embedding_layer(encoder_inputs_placeholder)\n",
    "encoder = LSTM(LATENT_DIM, return_state=True, dropout=0.5)"
   ]
  },
  {
   "cell_type": "code",
   "execution_count": 48,
   "metadata": {},
   "outputs": [],
   "source": [
    "encoder_outputs, h, c = encoder(x)\n",
    "encoder_states = [h, c]\n",
    "decoder_inputs_placeholder = Input(shape=(max_len_target,))\n",
    "decoder_embedding = Embedding(num_words_output, LATENT_DIM)\n",
    "decoder_inputs_x = decoder_embedding(decoder_inputs_placeholder)"
   ]
  },
  {
   "cell_type": "code",
   "execution_count": 49,
   "metadata": {},
   "outputs": [],
   "source": [
    "decoder_lstm = LSTM(LATENT_DIM, return_sequences = True, return_state = True, dropout=0.5)"
   ]
  },
  {
   "cell_type": "code",
   "execution_count": 50,
   "metadata": {},
   "outputs": [],
   "source": [
    "decoder_outputs, _, _ = decoder_lstm(decoder_inputs_x, initial_state = encoder_states)"
   ]
  },
  {
   "cell_type": "code",
   "execution_count": 51,
   "metadata": {},
   "outputs": [],
   "source": [
    "decoder_dense = Dense(num_words_output, activation='softmax')\n",
    "decoder_outputs = decoder_dense(decoder_outputs)"
   ]
  },
  {
   "cell_type": "code",
   "execution_count": 52,
   "metadata": {},
   "outputs": [],
   "source": [
    "model = Model([encoder_inputs_placeholder, decoder_inputs_placeholder], decoder_outputs)"
   ]
  },
  {
   "cell_type": "code",
   "execution_count": 53,
   "metadata": {},
   "outputs": [],
   "source": [
    "model.compile(optimizer='Adam', loss='categorical_crossentropy', metrics=['accuracy'])"
   ]
  },
  {
   "cell_type": "code",
   "execution_count": 54,
   "metadata": {},
   "outputs": [
    {
     "name": "stdout",
     "output_type": "stream",
     "text": [
      "Train on 16000 samples, validate on 4000 samples\n",
      "Epoch 1/20\n",
      "16000/16000 [==============================] - 126s 8ms/step - loss: 0.6105 - acc: 0.8524 - val_loss: 0.3228 - val_acc: 0.8875\n",
      "Epoch 2/20\n",
      "16000/16000 [==============================] - 120s 8ms/step - loss: 0.2931 - acc: 0.8971 - val_loss: 0.3022 - val_acc: 0.8873\n",
      "Epoch 3/20\n",
      "16000/16000 [==============================] - 120s 8ms/step - loss: 0.2754 - acc: 0.9012 - val_loss: 0.2515 - val_acc: 0.9071\n",
      "Epoch 4/20\n",
      "16000/16000 [==============================] - 119s 7ms/step - loss: 0.2220 - acc: 0.9230 - val_loss: 0.2148 - val_acc: 0.9211\n",
      "Epoch 5/20\n",
      "16000/16000 [==============================] - 119s 7ms/step - loss: 0.2028 - acc: 0.9292 - val_loss: 0.1982 - val_acc: 0.9243\n",
      "Epoch 6/20\n",
      "16000/16000 [==============================] - 119s 7ms/step - loss: 0.1929 - acc: 0.9322 - val_loss: 0.1940 - val_acc: 0.9255\n",
      "Epoch 7/20\n",
      "16000/16000 [==============================] - 120s 7ms/step - loss: 0.1823 - acc: 0.9363 - val_loss: 0.1818 - val_acc: 0.9322\n",
      "Epoch 8/20\n",
      "16000/16000 [==============================] - 120s 7ms/step - loss: 0.1697 - acc: 0.9414 - val_loss: 0.1733 - val_acc: 0.9382\n",
      "Epoch 9/20\n",
      "16000/16000 [==============================] - 120s 7ms/step - loss: 0.1553 - acc: 0.9467 - val_loss: 0.1604 - val_acc: 0.9413\n",
      "Epoch 10/20\n",
      "16000/16000 [==============================] - 119s 7ms/step - loss: 0.1389 - acc: 0.9523 - val_loss: 0.1502 - val_acc: 0.9464\n",
      "Epoch 11/20\n",
      "16000/16000 [==============================] - 137s 9ms/step - loss: 0.1250 - acc: 0.9568 - val_loss: 0.1380 - val_acc: 0.9518\n",
      "Epoch 12/20\n",
      "16000/16000 [==============================] - 143s 9ms/step - loss: 0.1118 - acc: 0.9611 - val_loss: 0.1265 - val_acc: 0.9548\n",
      "Epoch 13/20\n",
      "16000/16000 [==============================] - 139s 9ms/step - loss: 0.1033 - acc: 0.9641 - val_loss: 0.1158 - val_acc: 0.9600\n",
      "Epoch 14/20\n",
      "16000/16000 [==============================] - 151s 9ms/step - loss: 0.0941 - acc: 0.9673 - val_loss: 0.1088 - val_acc: 0.9628\n",
      "Epoch 15/20\n",
      "16000/16000 [==============================] - 136s 9ms/step - loss: 0.0861 - acc: 0.9699 - val_loss: 0.1000 - val_acc: 0.9651\n",
      "Epoch 16/20\n",
      "16000/16000 [==============================] - 121s 8ms/step - loss: 0.0791 - acc: 0.9724 - val_loss: 0.0927 - val_acc: 0.9675\n",
      "Epoch 17/20\n",
      "16000/16000 [==============================] - 127s 8ms/step - loss: 0.0733 - acc: 0.9743 - val_loss: 0.0856 - val_acc: 0.9713\n",
      "Epoch 18/20\n",
      "16000/16000 [==============================] - 133s 8ms/step - loss: 0.0680 - acc: 0.9762 - val_loss: 0.0806 - val_acc: 0.9731\n",
      "Epoch 19/20\n",
      "16000/16000 [==============================] - 127s 8ms/step - loss: 0.0634 - acc: 0.9779 - val_loss: 0.0741 - val_acc: 0.9744\n",
      "Epoch 20/20\n",
      "16000/16000 [==============================] - 130s 8ms/step - loss: 0.0596 - acc: 0.9793 - val_loss: 0.0705 - val_acc: 0.9765\n"
     ]
    }
   ],
   "source": [
    "r = model.fit([encoder_inputs, decoder_inputs],\n",
    "              decoder_targets_one_hot,\n",
    "              batch_size = BATCH_SIZE,\n",
    "              epochs=EPOCHS,\n",
    "              validation_split=0.2)"
   ]
  },
  {
   "cell_type": "code",
   "execution_count": 79,
   "metadata": {},
   "outputs": [
    {
     "data": {
      "image/png": "[encoded data removed]",
      "text/plain": [
       "<Figure size 432x288 with 1 Axes>"
      ]
     },
     "metadata": {},
     "output_type": "display_data"
    },
    {
     "data": {
      "image/png": "[encoded data removed]",
      "text/plain": [
       "<Figure size 432x288 with 1 Axes>"
      ]
     },
     "metadata": {},
     "output_type": "display_data"
    }
   ],
   "source": [
    "plt.plot(r.history['loss'], label='Loss')\n",
    "plt.plot(r.history['val_loss'], label='Validation Loss')\n",
    "plt.legend()\n",
    "plt.show()\n",
    "plt.plot(r.history['acc'], label='Accuracy')\n",
    "plt.plot(r.history['val_acc'], label='Validation Accuracy')\n",
    "plt.legend()\n",
    "plt.show()"
   ]
  },
  {
   "cell_type": "code",
   "execution_count": 80,
   "metadata": {},
   "outputs": [],
   "source": [
    "encoder_model = Model(encoder_inputs_placeholder, encoder_states)\n",
    "decoder_state_input_h = Input(shape=(LATENT_DIM,))\n",
    "decoder_state_input_c = Input(shape=(LATENT_DIM,))\n",
    "decoder_states_inputs = [decoder_state_input_h, decoder_state_input_c]"
   ]
  },
  {
   "cell_type": "code",
   "execution_count": 81,
   "metadata": {},
   "outputs": [],
   "source": [
    "decoder_inputs_single = Input(shape=(1,))\n",
    "decoder_inputs_single_x = decoder_embedding(decoder_inputs_single)"
   ]
  },
  {
   "cell_type": "code",
   "execution_count": 82,
   "metadata": {},
   "outputs": [],
   "source": [
    "decoder_outputs, h, c = decoder_lstm(decoder_inputs_single_x, initial_state=decoder_states_inputs)"
   ]
  },
  {
   "cell_type": "code",
   "execution_count": 83,
   "metadata": {},
   "outputs": [],
   "source": [
    "decoder_states = [h, c]\n",
    "decoder_outputs = decoder_dense(decoder_outputs)"
   ]
  },
  {
   "cell_type": "code",
   "execution_count": 84,
   "metadata": {},
   "outputs": [],
   "source": [
    "decoder_model = Model([decoder_inputs_single] + decoder_states_inputs, [decoder_outputs] + decoder_states)"
   ]
  },
  {
   "cell_type": "code",
   "execution_count": 85,
   "metadata": {},
   "outputs": [],
   "source": [
    "idx2state = {v:k for k, v in word2idx_inputs.items()}\n",
    "idx2relation = {v:k for k, v in word2idx_outputs.items()}"
   ]
  },
  {
   "cell_type": "code",
   "execution_count": 86,
   "metadata": {},
   "outputs": [],
   "source": [
    "def decode_sequence(input_seq):\n",
    "    states_value = encoder_model.predict(input_seq)\n",
    "    target_seq = np.zeros((1, 1))\n",
    "    target_seq[0, 0] = word2idx_outputs['<sos>']\n",
    "    eos = word2idx_outputs['<eos>']\n",
    "    # Create the language formulation\n",
    "    output_sentence = []\n",
    "    for _ in range(max_len_target):\n",
    "        output_tokens, h, c = decoder_model.predict([target_seq] + states_value)\n",
    "        idx = np.argmax(output_tokens[0, 0, :])\n",
    "        if eos == idx:\n",
    "            break\n",
    "        word = ''\n",
    "        if idx > 0:\n",
    "            word = idx2relation[idx]\n",
    "            output_sentence.append(word)\n",
    "            target_seq[0, 0] = idx\n",
    "            states_value = [h, c]\n",
    "    return ' '.join(output_sentence)"
   ]
  },
  {
   "cell_type": "code",
   "execution_count": 87,
   "metadata": {},
   "outputs": [
    {
     "name": "stdout",
     "output_type": "stream",
     "text": [
      "[[ 0  0  0  0  0  0  0  0  0  0  0  0  0  0  0  0  0  0  0  0  0  0  0  0\n",
      "   0  0  0 74 39 33 21]]\n",
      "-\n",
      "Sequence of states: ['26s3', '3s13', '13s25', '25s22']\n",
      "Language formulation: 26 3 13 25 22\n",
      "Continue? [y/n]y\n",
      "[[ 0  0  0  0  0  0  0  0  0  0  0  0  0  0  0  0  0  0  0  0  0  0  0  0\n",
      "   0  0  0 11  8  6 34]]\n",
      "-\n",
      "Sequence of states: ['12', '1', '14', '30']\n",
      "Language formulation: 12s1 1s14 14s30\n",
      "Continue? [y/n]y\n",
      "[[ 0  0  0  0  0  0  0  0  0  0  0  0  0  0  0  0  0  0  0  0  0  0  0  0\n",
      "   0  0  0  0  0  0 67]]\n",
      "-\n",
      "Sequence of states: ['17s22']\n",
      "Language formulation: 17 22\n",
      "Continue? [y/n]n\n"
     ]
    }
   ],
   "source": [
    "while True:\n",
    "    # Test description of physical system\n",
    "    samples = sample_events + sample_relations\n",
    "    i = np.random.choice(len(samples))\n",
    "    input_seq = encoder_inputs[i:i+1] \n",
    "    relation = decode_sequence(input_seq)\n",
    "    print(encoder_inputs[i:i+1])\n",
    "    print('-')\n",
    "    print('Sequence of states:', samples[i])\n",
    "    print('Language formulation:', relation)\n",
    "\n",
    "    ans = input(\"Continue? [y/n]\")\n",
    "    if ans and ans.lower().startswith('n'):\n",
    "        break"
   ]
  }
 ],
 "metadata": {
  "kernelspec": {
   "display_name": "Python 3",
   "language": "python",
   "name": "python3"
  },
  "language_info": {
   "codemirror_mode": {
    "name": "ipython",
    "version": 3
   },
   "file_extension": ".py",
   "mimetype": "text/x-python",
   "name": "python",
   "nbconvert_exporter": "python",
   "pygments_lexer": "ipython3",
   "version": "3.6.7"
  }
 },
 "nbformat": 4,
 "nbformat_minor": 2
}
