{
 "cells": [
  {
   "cell_type": "code",
   "execution_count": 1,
   "metadata": {},
   "outputs": [
    {
     "name": "stderr",
     "output_type": "stream",
     "text": [
      "Using TensorFlow backend.\n"
     ]
    }
   ],
   "source": [
    "import random\n",
    "import os\n",
    "import sys\n",
    "\n",
    "import numpy as np\n",
    "import matplotlib.pyplot as plt\n",
    "%matplotlib inline\n",
    "\n",
    "import networkx as nx \n",
    "import pylab\n",
    "\n",
    "from gensim.models import Word2Vec\n",
    "from sklearn.decomposition import PCA\n",
    "\n",
    "from keras.models import Model\n",
    "from keras.layers import Input, LSTM, GRU, Dense, Embedding\n",
    "from keras.preprocessing.text import Tokenizer\n",
    "from keras.preprocessing.sequence import pad_sequences\n",
    "from keras.utils import to_categorical\n",
    "import numpy as np\n",
    "import matplotlib.pyplot as plt\n",
    "\n",
    "import keras.backend as K"
   ]
  },
  {
   "cell_type": "code",
   "execution_count": 2,
   "metadata": {},
   "outputs": [],
   "source": [
    "\"\"\"\n",
    "This class generates a sequence of physical states\n",
    "as well as sequence of corresponding physical laws from graph.\n",
    "dataset_size = number of sequences it generates,\n",
    "num_states = number of physical states,\n",
    "max_sequence_size is upper limit to generated sequence length,\n",
    "connection = logarithmic percentile, which gives the density of laws/state\n",
    "             using normal distribution.\n",
    "\"\"\"\n",
    "\n",
    "class GraphLanguage:\n",
    "    def __init__(self, dataset_size, num_states, max_sequence_size, connection):\n",
    "        self.dataset_size = dataset_size\n",
    "        self.max_sequence_size = max_sequence_size\n",
    "        self.num_states = num_states\n",
    "        self.connection = connection\n",
    "    def generate_graph(self):\n",
    "        G = nx.DiGraph()\n",
    "        H = range(1,self.num_states+1)\n",
    "        G.add_nodes_from(H)\n",
    "        list_of_edges =[]\n",
    "        edge_labels = {}\n",
    "        for i in range(1, self.num_states):\n",
    "            for j in range(1, self.num_states+1):\n",
    "                d = np.random.randn()\n",
    "                if d < self.connection and i != j:\n",
    "                    e = (i,j)\n",
    "                    list_of_edges.append(e)\n",
    "                    edge_labels[e] = str(i)+'e'+str(j)\n",
    "        G.add_edges_from(list_of_edges)\n",
    "        # connection  = -1.25\n",
    "        nx.draw(G,pos = nx.spring_layout(G), with_labels=True) \n",
    "        pylab.show()\n",
    "  \n",
    "        sample_events = []\n",
    "        sample_relations = []\n",
    "        sample = []\n",
    "        target_events = []\n",
    "        target_events_inputs = []\n",
    "        target_texts = []\n",
    "        target_texts_inputs = []\n",
    "        for _ in range(self.dataset_size):\n",
    "            sequence_list = []\n",
    "            sample_rel = []\n",
    "            #sequence_size = random.randint(1, self.max_sequence_size)\n",
    "            sequence_size = self.max_sequence_size\n",
    "            l_descendants = []\n",
    "            target_event_input = []\n",
    "            target_event = []\n",
    "            node = random.randint(1, self.num_states)\n",
    "            l_descendants.append(node)\n",
    "            successors = G.successors(node)\n",
    "            l_successors = list(successors)\n",
    "            while l_successors and (len(l_descendants) <= sequence_size): \n",
    "                successor = random.choice(l_successors)\n",
    "                node = successor\n",
    "                l_descendants.append(node)\n",
    "                successors = G.successors(node)\n",
    "                l_successors = list(successors)\n",
    "                str_descendants = [str(item) for item in l_descendants]\n",
    "                #sequence_list.append(l_descendants)\n",
    "            for j in range(len(str_descendants)-1):\n",
    "                rel_list = str_descendants[j]+'s'+str_descendants[j+1]\n",
    "                sample_rel.append(rel_list)\n",
    "            a = '<sos>'\n",
    "            b = '<eos>'\n",
    "            sample_relations.append(sample_rel)\n",
    "            sample_events.append(str_descendants)\n",
    "            \n",
    "            target_event_input = str_descendants\n",
    "            target_event = str_descendants\n",
    "            \n",
    "            target_event_input = [a] + target_event_input \n",
    "            target_event = target_event + [b]\n",
    "            \n",
    "            target_events.append(target_event)\n",
    "            target_events_inputs.append(target_event_input)\n",
    "            \n",
    "            sample.append((str_descendants, sample_rel))\n",
    "            \n",
    "            target_text = sample_rel\n",
    "            target_text_input = sample_rel\n",
    "            \n",
    "            target_text_input = [a] + target_text_input\n",
    "            target_text = target_text + [b]\n",
    "            \n",
    "            target_texts.append(target_text)\n",
    "            target_texts_inputs.append(target_text_input)\n",
    "        return sample, sample_events, sample_relations, target_events, target_events_inputs, target_texts, target_texts_inputs"
   ]
  },
  {
   "cell_type": "code",
   "execution_count": 3,
   "metadata": {},
   "outputs": [
    {
     "data": {
      "image/png": "[encoded data removed]",
      "text/plain": [
       "<Figure size 432x288 with 1 Axes>"
      ]
     },
     "metadata": {},
     "output_type": "display_data"
    }
   ],
   "source": [
    "graph = GraphLanguage(100000, 4, 10, 0.3)\n",
    "sample, sample_events, sample_relations,target_events, target_events_inputs, target_texts, target_texts_inputs = graph.generate_graph()"
   ]
  },
  {
   "cell_type": "code",
   "execution_count": 4,
   "metadata": {},
   "outputs": [],
   "source": [
    "#print(sample_events)\n",
    "#print(sample_relations)\n",
    "#print(sample)\n",
    "#print(target_texts)\n",
    "#print(target_texts_inputs)\n",
    "#print(target_events)\n",
    "#print(target_events_inputs)"
   ]
  },
  {
   "cell_type": "code",
   "execution_count": 5,
   "metadata": {},
   "outputs": [],
   "source": [
    "# Creating Word2Vec-like embeddings for states and laws\n",
    "emb_model1 = Word2Vec(sample_events, size = 10, workers = 2,  sg = 1, min_count=50)\n",
    "emb_model2 = Word2Vec(sample_relations, size = 10, workers = 2,  sg = 1, min_count = 50)\n",
    "probes = np.concatenate([sample_events, sample_relations])\n",
    "#random.shuffle(probes)\n",
    "emb_model5 = Word2Vec(probes, size = 10, workers = 2, sg = 1, min_count = 50)\n",
    "emb_model = Word2Vec(sample_events + sample_relations, workers = 2, window = 10,  sg = 1, min_count=50) "
   ]
  },
  {
   "cell_type": "code",
   "execution_count": 6,
   "metadata": {},
   "outputs": [],
   "source": [
    "words1 = list(emb_model1.wv.vocab)\n",
    "words2 = list(emb_model2.wv.vocab)\n",
    "words5 = list(emb_model5.wv.vocab)\n",
    "words = list(emb_model.wv.vocab)"
   ]
  },
  {
   "cell_type": "code",
   "execution_count": 7,
   "metadata": {},
   "outputs": [],
   "source": [
    "# Reducing the number of laws for the orthogonal Procrustes, since X, and Y need to be of the same shape.\n",
    "n = len(words1)\n",
    "import collections\n",
    "word2word_num = {}\n",
    "for sequence in sample_relations:\n",
    "    for word in sequence:\n",
    "        if word not in word2word_num:\n",
    "            word2word_num[word] = 0 \n",
    "        word2word_num[word] += 1\n",
    "word_counter = collections.Counter(word2word_num)\n",
    "most_common_words = []\n",
    "common_words = word_counter.most_common(n)\n",
    "most_common_words = [words for words, counts in common_words]\n",
    "\n",
    "state2vec1 = {}\n",
    "for s in words1:\n",
    "    state2vec1[s] = emb_model1.wv.__getitem__(s)\n",
    "state2vec2 = {}\n",
    "for s in words2:\n",
    "    state2vec2[s] = emb_model2.wv.__getitem__(s)\n",
    "word2vec = {}\n",
    "for s in words:\n",
    "    word2vec[s] = emb_model.wv.__getitem__(s)"
   ]
  },
  {
   "cell_type": "code",
   "execution_count": 8,
   "metadata": {},
   "outputs": [],
   "source": [
    "X1 = emb_model1.wv.__getitem__(emb_model1.wv.vocab) # Vectors for physical states\n",
    "X2 = emb_model2.wv.__getitem__(emb_model2.wv.vocab) # Vectors for physical laws\n",
    "X5 = emb_model5.wv.__getitem__(emb_model5.wv.vocab) # Vectors for both states and laws"
   ]
  },
  {
   "cell_type": "code",
   "execution_count": 9,
   "metadata": {},
   "outputs": [
    {
     "data": {
      "image/png": "[encoded data removed]",
      "text/plain": [
       "<Figure size 800x640 with 1 Axes>"
      ]
     },
     "metadata": {},
     "output_type": "display_data"
    }
   ],
   "source": [
    "\"\"\"\n",
    "Embedding of states and laws put together, after PCA.\n",
    "\"\"\"\n",
    "X = emb_model.wv.__getitem__(emb_model.wv.vocab)\n",
    "pca = PCA(n_components=2, whiten = True)\n",
    "result = pca.fit_transform(X)\n",
    "plt.figure(figsize=(10, 8), dpi=80)\n",
    "plt.scatter(result[:n, 0], result[:n, 1], s= 30)\n",
    "plt.scatter(result[n:, 0], result[n:, 1],c = 'r', s= 30)\n",
    "words = list(emb_model.wv.vocab)\n",
    "for i, word in enumerate(words):\n",
    "    plt.annotate(word, xy=(result[i, 0], result[i, 1]), size = 13)\n",
    "plt.show()"
   ]
  },
  {
   "cell_type": "code",
   "execution_count": 10,
   "metadata": {},
   "outputs": [
    {
     "data": {
      "image/png": "[encoded data removed]",
      "text/plain": [
       "<Figure size 800x640 with 1 Axes>"
      ]
     },
     "metadata": {},
     "output_type": "display_data"
    }
   ],
   "source": [
    "\"\"\"\n",
    "Embedding of states after PCA.\n",
    "\"\"\"\n",
    "X1 = emb_model1.wv.__getitem__(emb_model1.wv.vocab)\n",
    "pca = PCA(n_components=2, whiten = True)\n",
    "result1 = pca.fit_transform(X1)\n",
    "plt.figure(figsize=(10, 8), dpi=80)\n",
    "plt.scatter(result1[:n, 0], result1[:n, 1], s = 30)\n",
    "plt.scatter(result1[n:, 0], result1[n:, 1],c = 'r', s = 30)\n",
    "words1 = list(emb_model1.wv.vocab)\n",
    "for i, word in enumerate(words1):\n",
    "    plt.annotate(word, xy=(result1[i, 0], result1[i, 1]), size = 13)\n",
    "plt.show()"
   ]
  },
  {
   "cell_type": "code",
   "execution_count": 11,
   "metadata": {},
   "outputs": [
    {
     "data": {
      "image/png": "[encoded data removed]",
      "text/plain": [
       "<Figure size 800x640 with 1 Axes>"
      ]
     },
     "metadata": {},
     "output_type": "display_data"
    }
   ],
   "source": [
    "\"\"\"\n",
    "Embedding of laws after PCA.\n",
    "\"\"\"\n",
    "X2 = emb_model2.wv.__getitem__(emb_model2.wv.vocab)\n",
    "pca = PCA(n_components=2, whiten = True)\n",
    "result2 = pca.fit_transform(X2)\n",
    "plt.figure(figsize=(10, 8), dpi=80)\n",
    "plt.scatter(result2[:, 0], result2[:, 1], s = 30)\n",
    "words2 = list(emb_model2.wv.vocab)\n",
    "for i, word in enumerate(words2):\n",
    "    plt.annotate(word, xy=(result2[i, 0], result2[i, 1]), size = 13)\n",
    "plt.show()"
   ]
  },
  {
   "cell_type": "code",
   "execution_count": 12,
   "metadata": {},
   "outputs": [
    {
     "name": "stdout",
     "output_type": "stream",
     "text": [
      "(4, 10)\n",
      "(4, 10)\n"
     ]
    },
    {
     "data": {
      "text/plain": [
       "{'2s1': array([ 0.3417588 ,  0.16597944,  0.83960736,  0.65181404, -0.05753197,\n",
       "        -0.49583477,  0.31997806, -0.23215632, -0.55782   ,  0.24770494],\n",
       "       dtype=float32),\n",
       " '1s4': array([ 1.4454873 , -0.31747055,  0.35870558,  0.440276  ,  1.0557749 ,\n",
       "        -0.30861655,  0.18770552,  1.2214966 ,  0.59563017,  0.5168215 ],\n",
       "       dtype=float32),\n",
       " '1s3': array([ 0.23254786,  0.08861652,  0.46168342,  0.33434054,  0.2802484 ,\n",
       "        -0.09581506,  0.8368359 ,  0.23701736,  0.34481853,  0.67925835],\n",
       "       dtype=float32),\n",
       " '3s2': array([ 0.4270298 ,  0.7702313 ,  0.6312396 , -0.43438748,  0.05834957,\n",
       "        -0.49340764,  0.1278122 ,  0.22135559,  0.24573207,  0.2852761 ],\n",
       "       dtype=float32)}"
      ]
     },
     "execution_count": 12,
     "metadata": {},
     "output_type": "execute_result"
    }
   ],
   "source": [
    "state2vec3 = {}\n",
    "for s in most_common_words:\n",
    "    state2vec3[s] = state2vec2[s]\n",
    "X3 = [vec for word, vec in state2vec3.items()]\n",
    "X3 = np.asarray(X3)\n",
    "print(X3.shape)\n",
    "print(X1.shape)\n",
    "state2vec3 # Most common laws."
   ]
  },
  {
   "cell_type": "code",
   "execution_count": 13,
   "metadata": {},
   "outputs": [],
   "source": [
    "# Orthogonal Procrustes optimization.\n",
    "from scipy.linalg import orthogonal_procrustes\n",
    "R, sca = orthogonal_procrustes(X3, X1)\n",
    "X4 = X3.dot(R) # Orthogonal Procrustes on Restricted Y (tilde Y).\n",
    "X5 = X2.dot(R) # Orthogonal Procrustes on whole Y."
   ]
  },
  {
   "cell_type": "code",
   "execution_count": 14,
   "metadata": {},
   "outputs": [],
   "source": [
    "state2vec5 = {}\n",
    "state2vec5 = state2vec2\n",
    "for i, j in enumerate(state2vec5):\n",
    "    state2vec5[j] = X5[i,:]\n",
    "# Dictionary for Upsilon law2vec after orthogonal Procrustes."
   ]
  },
  {
   "cell_type": "code",
   "execution_count": 15,
   "metadata": {},
   "outputs": [],
   "source": [
    "state2vec6 = {**state2vec1, **state2vec5}\n",
    "# This dictionary comprises vectors X and Upsilon."
   ]
  },
  {
   "cell_type": "code",
   "execution_count": 16,
   "metadata": {},
   "outputs": [
    {
     "data": {
      "image/png": "[encoded data removed]",
      "text/plain": [
       "<Figure size 800x640 with 1 Axes>"
      ]
     },
     "metadata": {},
     "output_type": "display_data"
    }
   ],
   "source": [
    "X6 = [vec for word, vec in state2vec6.items()]\n",
    "pca = PCA(n_components=2, whiten = True)\n",
    "result6 = pca.fit_transform(np.array(X6))\n",
    "plt.figure(figsize=(10, 8), dpi=80)\n",
    "plt.scatter(result6[:n, 0], result6[:n, 1], s = 40)\n",
    "plt.scatter(result6[n:, 0], result6[n:, 1], c = 'r', s = 40)\n",
    "words6 = [word for word, vec in state2vec6.items()] \n",
    "for i, word in enumerate(words6):\n",
    "    plt.annotate(word, xy=(result6[i, 0], result6[i, 1]), size = 15)\n",
    "plt.show()"
   ]
  },
  {
   "cell_type": "code",
   "execution_count": 17,
   "metadata": {},
   "outputs": [],
   "source": [
    "#state2vec6 # This dictionary correspond to both vectors X and Upsilon"
   ]
  },
  {
   "cell_type": "code",
   "execution_count": 18,
   "metadata": {},
   "outputs": [],
   "source": [
    "def state_dist(state1, state2):\n",
    "    \"\"\"\n",
    "    This function lists the distance of the middle point between two states:\n",
    "    state1 and state2 to all the states from X and Upsilon vectors.\n",
    "    The output is the corresponding dictionary.\n",
    "    \"\"\"\n",
    "    state2dist = {}\n",
    "    state2dist1 = {}\n",
    "    for state in state2vec6:\n",
    "        if state not in sample_events:\n",
    "            state2dist[state] = np.dot(1/2 * (state2vec6[state1]+state2vec6[state2]),state2vec6[state]) / (np.linalg.norm(1/2 * (state2vec6[state1]+state2vec6[state2])) * np.linalg.norm(state2vec6[state]))\n",
    "            state2dist1[state] = np.linalg.norm(1/2 * (state2vec6[state1]+state2vec6[state2]) - state2vec6[state])\n",
    "    return state2dist#, state2dist1 # cos distance / euclidean distance"
   ]
  },
  {
   "cell_type": "code",
   "execution_count": null,
   "metadata": {},
   "outputs": [],
   "source": []
  }
 ],
 "metadata": {
  "kernelspec": {
   "display_name": "Python 3",
   "language": "python",
   "name": "python3"
  },
  "language_info": {
   "codemirror_mode": {
    "name": "ipython",
    "version": 3
   },
   "file_extension": ".py",
   "mimetype": "text/x-python",
   "name": "python",
   "nbconvert_exporter": "python",
   "pygments_lexer": "ipython3",
   "version": "3.6.7"
  }
 },
 "nbformat": 4,
 "nbformat_minor": 2
}
